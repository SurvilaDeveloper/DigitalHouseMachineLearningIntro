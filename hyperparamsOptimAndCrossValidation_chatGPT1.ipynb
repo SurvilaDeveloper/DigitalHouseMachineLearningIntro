{
 "cells": [
  {
   "cell_type": "code",
   "execution_count": 11,
   "id": "922adb18",
   "metadata": {},
   "outputs": [],
   "source": [
    "# 📦 Importación de librerías necesarias\n",
    "import pandas as pd\n",
    "import numpy as np\n",
    "import seaborn as sns\n",
    "import matplotlib.pyplot as plt\n",
    "\n",
    "from sklearn.model_selection import train_test_split, StratifiedKFold, GridSearchCV\n",
    "from sklearn.preprocessing import StandardScaler\n",
    "from sklearn.neighbors import KNeighborsClassifier\n",
    "from sklearn.metrics import classification_report, confusion_matrix\n",
    "\n",
    "# Estilo para los gráficos\n",
    "sns.set(style=\"whitegrid\")\n"
   ]
  },
  {
   "cell_type": "code",
   "execution_count": 12,
   "id": "bb0e44a6",
   "metadata": {},
   "outputs": [
    {
     "name": "stdout",
     "output_type": "stream",
     "text": [
      "filas: 3676 columnas: 10\n"
     ]
    },
    {
     "data": {
      "text/html": [
       "<div>\n",
       "<style scoped>\n",
       "    .dataframe tbody tr th:only-of-type {\n",
       "        vertical-align: middle;\n",
       "    }\n",
       "\n",
       "    .dataframe tbody tr th {\n",
       "        vertical-align: top;\n",
       "    }\n",
       "\n",
       "    .dataframe thead th {\n",
       "        text-align: right;\n",
       "    }\n",
       "</style>\n",
       "<table border=\"1\" class=\"dataframe\">\n",
       "  <thead>\n",
       "    <tr style=\"text-align: right;\">\n",
       "      <th></th>\n",
       "      <th>Sex</th>\n",
       "      <th>Length</th>\n",
       "      <th>Diameter</th>\n",
       "      <th>Height</th>\n",
       "      <th>Whole_weight</th>\n",
       "      <th>Shucked_weight</th>\n",
       "      <th>Viscera_weight</th>\n",
       "      <th>Shell_weight</th>\n",
       "      <th>Rings</th>\n",
       "      <th>Adulto</th>\n",
       "    </tr>\n",
       "  </thead>\n",
       "  <tbody>\n",
       "    <tr>\n",
       "      <th>625</th>\n",
       "      <td>F</td>\n",
       "      <td>0.525</td>\n",
       "      <td>0.405</td>\n",
       "      <td>0.160</td>\n",
       "      <td>0.6580</td>\n",
       "      <td>0.2655</td>\n",
       "      <td>0.1125</td>\n",
       "      <td>0.225</td>\n",
       "      <td>12</td>\n",
       "      <td>0</td>\n",
       "    </tr>\n",
       "    <tr>\n",
       "      <th>1880</th>\n",
       "      <td>I</td>\n",
       "      <td>0.550</td>\n",
       "      <td>0.435</td>\n",
       "      <td>0.140</td>\n",
       "      <td>0.7995</td>\n",
       "      <td>0.2950</td>\n",
       "      <td>0.1905</td>\n",
       "      <td>0.238</td>\n",
       "      <td>10</td>\n",
       "      <td>1</td>\n",
       "    </tr>\n",
       "    <tr>\n",
       "      <th>2446</th>\n",
       "      <td>F</td>\n",
       "      <td>0.550</td>\n",
       "      <td>0.435</td>\n",
       "      <td>0.170</td>\n",
       "      <td>0.8840</td>\n",
       "      <td>0.2875</td>\n",
       "      <td>0.1645</td>\n",
       "      <td>0.280</td>\n",
       "      <td>14</td>\n",
       "      <td>1</td>\n",
       "    </tr>\n",
       "    <tr>\n",
       "      <th>346</th>\n",
       "      <td>F</td>\n",
       "      <td>0.525</td>\n",
       "      <td>0.420</td>\n",
       "      <td>0.160</td>\n",
       "      <td>0.7560</td>\n",
       "      <td>0.2745</td>\n",
       "      <td>0.1730</td>\n",
       "      <td>0.275</td>\n",
       "      <td>9</td>\n",
       "      <td>0</td>\n",
       "    </tr>\n",
       "    <tr>\n",
       "      <th>1187</th>\n",
       "      <td>M</td>\n",
       "      <td>0.685</td>\n",
       "      <td>0.520</td>\n",
       "      <td>0.165</td>\n",
       "      <td>1.5190</td>\n",
       "      <td>0.6990</td>\n",
       "      <td>0.3685</td>\n",
       "      <td>0.400</td>\n",
       "      <td>10</td>\n",
       "      <td>1</td>\n",
       "    </tr>\n",
       "  </tbody>\n",
       "</table>\n",
       "</div>"
      ],
      "text/plain": [
       "     Sex  Length  Diameter  Height  Whole_weight  Shucked_weight  \\\n",
       "625    F   0.525     0.405   0.160        0.6580          0.2655   \n",
       "1880   I   0.550     0.435   0.140        0.7995          0.2950   \n",
       "2446   F   0.550     0.435   0.170        0.8840          0.2875   \n",
       "346    F   0.525     0.420   0.160        0.7560          0.2745   \n",
       "1187   M   0.685     0.520   0.165        1.5190          0.6990   \n",
       "\n",
       "      Viscera_weight  Shell_weight  Rings  Adulto  \n",
       "625           0.1125         0.225     12       0  \n",
       "1880          0.1905         0.238     10       1  \n",
       "2446          0.1645         0.280     14       1  \n",
       "346           0.1730         0.275      9       0  \n",
       "1187          0.3685         0.400     10       1  "
      ]
     },
     "execution_count": 12,
     "metadata": {},
     "output_type": "execute_result"
    }
   ],
   "source": [
    "# 📂 Carga del conjunto de datos\n",
    "df = pd.read_csv('./data/abalone.csv', sep=';')\n",
    "\n",
    "# Mostrar información básica del conjunto de datos\n",
    "print('filas:', df.shape[0], 'columnas:', df.shape[1])\n",
    "df.sample(5)\n"
   ]
  },
  {
   "cell_type": "code",
   "execution_count": 13,
   "id": "06f4048b",
   "metadata": {},
   "outputs": [
    {
     "data": {
      "image/png": "[encoded data removed]",
      "text/plain": [
       "<Figure size 640x480 with 1 Axes>"
      ]
     },
     "metadata": {},
     "output_type": "display_data"
    }
   ],
   "source": [
    "# 📊 Visualización de la distribución de clases\n",
    "sns.countplot(data=df, x='Adulto')\n",
    "plt.title(\"Distribución de la variable objetivo 'Adulto'\")\n",
    "plt.show()\n"
   ]
  },
  {
   "cell_type": "code",
   "execution_count": 15,
   "id": "01f3fc80",
   "metadata": {},
   "outputs": [
    {
     "name": "stdout",
     "output_type": "stream",
     "text": [
      "Adulto\n",
      "0    2073\n",
      "1    1603\n",
      "Name: count, dtype: int64\n"
     ]
    }
   ],
   "source": [
    "# 🧹 Preprocesamiento de los datos\n",
    "X = df.drop(columns=['Adulto', 'Sex'])  # Eliminamos la columna categórica y la de salida\n",
    "y = df['Adulto']\n",
    "\n",
    "# Mostrar balance de clases\n",
    "print(y.value_counts())\n"
   ]
  },
  {
   "cell_type": "code",
   "execution_count": 16,
   "id": "e24dd8aa",
   "metadata": {},
   "outputs": [
    {
     "name": "stdout",
     "output_type": "stream",
     "text": [
      "Tamaño del set de entrenamiento: (2573, 8)\n",
      "Tamaño del set de prueba: (1103, 8)\n"
     ]
    }
   ],
   "source": [
    "# 🔀 División del dataset en entrenamiento y prueba\n",
    "X_train, X_test, y_train, y_test = train_test_split(X, y, test_size=0.3, random_state=56, stratify=y)\n",
    "print(\"Tamaño del set de entrenamiento:\", X_train.shape)\n",
    "print(\"Tamaño del set de prueba:\", X_test.shape)\n"
   ]
  },
  {
   "cell_type": "code",
   "execution_count": 17,
   "id": "7c743afb",
   "metadata": {},
   "outputs": [],
   "source": [
    "# 🔧 Estandarización de variables\n",
    "scaler = StandardScaler()\n",
    "X_train = pd.DataFrame(scaler.fit_transform(X_train), columns=X.columns)\n",
    "X_test = pd.DataFrame(scaler.transform(X_test), columns=X.columns)\n"
   ]
  },
  {
   "cell_type": "code",
   "execution_count": 18,
   "id": "4f10eeaf",
   "metadata": {},
   "outputs": [
    {
     "name": "stdout",
     "output_type": "stream",
     "text": [
      "✅ Mejor número de vecinos: {'n_neighbors': np.int64(13)}\n"
     ]
    }
   ],
   "source": [
    "# 🤖 Entrenamiento y optimización de hiperparámetros\n",
    "model = KNeighborsClassifier()\n",
    "folds = StratifiedKFold(n_splits=5)\n",
    "\n",
    "grid = GridSearchCV(estimator=model,\n",
    "                    param_grid={'n_neighbors': np.arange(1, 30)},\n",
    "                    scoring='accuracy',\n",
    "                    cv=folds)\n",
    "\n",
    "grid.fit(X_train, y_train)\n",
    "\n",
    "print(\"✅ Mejor número de vecinos:\", grid.best_params_)\n"
   ]
  },
  {
   "cell_type": "code",
   "execution_count": 20,
   "id": "47ccc6fb",
   "metadata": {},
   "outputs": [
    {
     "name": "stdout",
     "output_type": "stream",
     "text": [
      "🔍 Reporte de clasificación:\n",
      "              precision    recall  f1-score   support\n",
      "\n",
      "           0       0.92      0.87      0.89       622\n",
      "           1       0.84      0.90      0.87       481\n",
      "\n",
      "    accuracy                           0.88      1103\n",
      "   macro avg       0.88      0.89      0.88      1103\n",
      "weighted avg       0.89      0.88      0.88      1103\n",
      "\n"
     ]
    },
    {
     "name": "stderr",
     "output_type": "stream",
     "text": [
      "C:\\Users\\Gabriel\\AppData\\Roaming\\Python\\Python312\\site-packages\\IPython\\core\\pylabtools.py:170: UserWarning: Glyph 128269 (\\N{LEFT-POINTING MAGNIFYING GLASS}) missing from font(s) Arial.\n",
      "  fig.canvas.print_figure(bytes_io, **kw)\n"
     ]
    },
    {
     "data": {
      "image/png": "[encoded data removed]",
      "text/plain": [
       "<Figure size 640x480 with 2 Axes>"
      ]
     },
     "metadata": {},
     "output_type": "display_data"
    }
   ],
   "source": [
    "# 📈 Evaluación del modelo\n",
    "y_pred = grid.predict(X_test)\n",
    "\n",
    "print(\"🔍 Reporte de clasificación:\")\n",
    "print(classification_report(y_test, y_pred))\n",
    "\n",
    "# Matriz de confusión\n",
    "conf_matrix = confusion_matrix(y_test, y_pred)\n",
    "sns.heatmap(conf_matrix, annot=True, fmt=\"d\", cmap=\"Blues\")\n",
    "plt.title(\"🔍 Matriz de confusión\")\n",
    "plt.xlabel(\"Predicción\")\n",
    "plt.ylabel(\"Real\")\n",
    "plt.show()\n"
   ]
  }
 ],
 "metadata": {
  "language_info": {
   "name": "python"
  }
 },
 "nbformat": 4,
 "nbformat_minor": 5
}
